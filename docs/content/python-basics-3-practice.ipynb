{
 "cells": [
  {
   "cell_type": "markdown",
   "id": "dynamic-custody",
   "metadata": {},
   "source": [
    "# Python 基础练习3"
   ]
  },
  {
   "cell_type": "markdown",
   "id": "documented-liquid",
   "metadata": {},
   "source": [
    "## 用户输入——示例"
   ]
  },
  {
   "cell_type": "markdown",
   "id": "arabic-award",
   "metadata": {},
   "source": [
    "请把最后一行 `run_adder` 从注释拿出来，这样才能运行这段代码。"
   ]
  },
  {
   "cell_type": "code",
   "execution_count": 1,
   "id": "impressed-letter",
   "metadata": {},
   "outputs": [],
   "source": [
    "# 我们定义一个加法计算器\n",
    "def run_adder():\n",
    "    total = 0\n",
    "    while True:\n",
    "        user_input = input(\"请输入下一个数。输入 'stop' 停止。\")\n",
    "        if user_input == \"stop\":\n",
    "            break           # break 语句会退出当前的循环（如果是多层循环的话只会跳出一层循环）\n",
    "        x = float(user_input) # 这一句可能会导致问题，比如当用户的输入包含字母\n",
    "        total = total + x\n",
    "        \n",
    "    print(total)\n",
    "    \n",
    "# run_adder()"
   ]
  },
  {
   "cell_type": "markdown",
   "id": "dimensional-calibration",
   "metadata": {},
   "source": [
    "你会发现，好不容易输入了一大堆数字，一不小心输入一个字母，程序就崩溃，之前累加的数值就全白费了。  \n",
    "<br>\n",
    "\n",
    "所以需要在 `float(user_input)` 这一句之前，判断一下用户输入到底能不能被转换成数字。"
   ]
  },
  {
   "cell_type": "markdown",
   "id": "animated-object",
   "metadata": {},
   "source": [
    "## 正则表达式——示例"
   ]
  },
  {
   "cell_type": "markdown",
   "id": "dimensional-burton",
   "metadata": {},
   "source": [
    "注意，我们会用 `\\` 来对一些特殊字符进行 `转义`，来去掉它们的特殊含义。  \n",
    "比如 `.` 在表达式中是 `通配符` 的意思，会匹配任何字符。加上斜杠后，就退化成字面上的 `.`。"
   ]
  },
  {
   "cell_type": "code",
   "execution_count": 2,
   "id": "municipal-marriage",
   "metadata": {},
   "outputs": [
    {
     "name": "stdout",
     "output_type": "stream",
     "text": [
      "True\n",
      "True\n",
      "True\n",
      "True\n",
      "以上全部为 True\n",
      "False\n",
      "False\n",
      "False\n",
      "False\n",
      "False\n",
      "以上全部为 False\n"
     ]
    }
   ],
   "source": [
    "import re\n",
    "\n",
    "third_decimals = [\"3.142\", \"123.456\", \"125135316235623.123\", \"0.456\"] # 精确到三位小数的数字\n",
    "non_third_decimals = [\"12\", \"1.234567\", \"abc\", \"123a.133\", \"ba12\"] # 所有其它的字符串\n",
    "\n",
    "expression = \"^[0-9]*\\.[0-9]{3}$\" # 注意 '*' 后面的 '\\.'这个斜杠是必要的，因为 `.` 是一个有特殊含义的字符，就和 `[` 一样\n",
    "                                  # 不是真的去匹配 `[` 这个字符。这种有特殊含义的字符前面需要加上斜杠来进行 `转义`。\n",
    "for string in third_decimals:\n",
    "    print(bool(re.search(expression, string)))\n",
    "print(\"以上全部为 True\")\n",
    "    \n",
    "for string in non_third_decimals:\n",
    "    print(bool(re.search(expression, string)))\n",
    "print(\"以上全部为 False\")"
   ]
  },
  {
   "cell_type": "markdown",
   "id": "bound-plate",
   "metadata": {},
   "source": [
    "请把最后一行 `run_adder_safe` 从注释拿出来，这样才能运行这段代码。"
   ]
  },
  {
   "cell_type": "code",
   "execution_count": 3,
   "id": "joined-attendance",
   "metadata": {},
   "outputs": [],
   "source": [
    "# 我们定义一个安全的加法计算器\n",
    "\n",
    "integer_expression = \"^[0-9]{1,}$\"\n",
    "\n",
    "def run_adder_safe():\n",
    "    total = 0\n",
    "    while True:\n",
    "        user_input = input(\"请输入下一个数。输入 'stop' 停止。\")\n",
    "        if user_input == \"stop\":\n",
    "            break\n",
    "        \n",
    "        if not re.search(integer_expression, user_input):\n",
    "            print(\"输入不合法！\")\n",
    "            continue    # continue 可以直接结束当前这一轮的循环，进入下一轮。\n",
    "                        # 因为输入不合法，所以直接重新来一轮循环，从而跳过了下面那句会出错的句子。\n",
    "        x = float(user_input)\n",
    "        total = total + x\n",
    "        print(\"当前总和： \" + str(total))\n",
    "        \n",
    "    print(total)\n",
    "    \n",
    "# run_adder_safe()"
   ]
  },
  {
   "cell_type": "markdown",
   "id": "requested-material",
   "metadata": {},
   "source": [
    "## 正则表达式——练习\n"
   ]
  },
  {
   "cell_type": "code",
   "execution_count": 4,
   "id": "liable-bidder",
   "metadata": {},
   "outputs": [
    {
     "name": "stdout",
     "output_type": "stream",
     "text": [
      "True\n",
      "True\n",
      "True\n",
      "True\n",
      "以上全部为 True\n",
      "True\n",
      "True\n",
      "True\n",
      "True\n",
      "True\n",
      "以上全部为 False\n"
     ]
    }
   ],
   "source": [
    "valid_sort_code = [\"24-12-45\", \"55-34-12\", \"00-00-11\", \"55-66-77\"] # 合法的 sort code（英国银行卡上用的）\n",
    "invalid_sort_code = [\"aa-22-33\", \"11 22 33\", \"15t23g\", \"314159\", \"a1-b2-c3\"] # 所有其它的字符串\n",
    "\n",
    "expression = \"\" # 在这里写表达式！\n",
    " \n",
    "for string in valid_sort_code:\n",
    "    print(bool(re.search(expression, string)))\n",
    "print(\"以上全部为 True\")\n",
    "    \n",
    "for string in invalid_sort_code:\n",
    "    print(bool(re.search(expression, string)))\n",
    "print(\"以上全部为 False\")"
   ]
  },
  {
   "cell_type": "markdown",
   "id": "elect-butterfly",
   "metadata": {},
   "source": [
    "更多练习请点击[这里](https://regex.sketchengine.co.uk/)！ "
   ]
  },
  {
   "cell_type": "markdown",
   "id": "empirical-virus",
   "metadata": {},
   "source": [
    "## 用户输入和正则匹配——练习"
   ]
  },
  {
   "cell_type": "code",
   "execution_count": 5,
   "id": "generic-object",
   "metadata": {},
   "outputs": [],
   "source": [
    "# 先读取用户输入数字，再读取 '+', '-', '*', '/' 四种字符中的一个\n",
    "# 然后像计算器那样进行运算，直到用户输入 `stop`\n",
    "# 注意使用正则表达式检查用户输入是否合法\n",
    "# 如果觉得困难，就只允许整数。喜欢挑战的话可以尝试一下匹配浮点数。\n",
    "\n",
    "import re\n",
    "\n",
    "def run_calculator():\n",
    "    while None:\n",
    "        return None\n",
    "    \n",
    "def isValidNumber(user_input):\n",
    "    return False\n",
    "    \n",
    "def isValidOp(user_input):\n",
    "    return False\n",
    "\n",
    "run_calculator()"
   ]
  },
  {
   "cell_type": "markdown",
   "id": "respected-monroe",
   "metadata": {},
   "source": [
    "## 字典——示例"
   ]
  },
  {
   "cell_type": "code",
   "execution_count": 22,
   "id": "dynamic-store",
   "metadata": {},
   "outputs": [
    {
     "name": "stdout",
     "output_type": "stream",
     "text": [
      "dict_keys(['abc', 'bcd', 'cde'])\n",
      "dict_values([10, 20, 30])\n",
      "dict_items([('abc', 10), ('bcd', 20), ('cde', 30)])\n"
     ]
    }
   ],
   "source": [
    "x = dict()\n",
    "x[\"abc\"] = 10\n",
    "x[\"bcd\"] = 20\n",
    "x[\"cde\"] = 30\n",
    "\n",
    "print(x.keys())\n",
    "print(x.values())\n",
    "print(x.items())\n"
   ]
  },
  {
   "cell_type": "code",
   "execution_count": 23,
   "id": "seasonal-utilization",
   "metadata": {},
   "outputs": [
    {
     "name": "stdout",
     "output_type": "stream",
     "text": [
      "dict_values([100, 20, 30])\n"
     ]
    }
   ],
   "source": [
    "x[\"abc\"] = 100\n",
    "print(x.values())"
   ]
  },
  {
   "cell_type": "code",
   "execution_count": 26,
   "id": "micro-falls",
   "metadata": {},
   "outputs": [
    {
     "name": "stdout",
     "output_type": "stream",
     "text": [
      "True\n",
      "False\n"
     ]
    }
   ],
   "source": [
    "print(20 in x.values())\n",
    "print(200 in x.values())"
   ]
  },
  {
   "cell_type": "code",
   "execution_count": 28,
   "id": "oriental-leader",
   "metadata": {},
   "outputs": [
    {
     "name": "stdout",
     "output_type": "stream",
     "text": [
      "False\n"
     ]
    }
   ],
   "source": [
    "print(\"abcd\" in x.keys())"
   ]
  },
  {
   "cell_type": "markdown",
   "id": "working-paper",
   "metadata": {},
   "source": [
    "## 文本处理——示例"
   ]
  },
  {
   "cell_type": "markdown",
   "id": "dominant-sullivan",
   "metadata": {},
   "source": [
    "我们先下载一下《红楼梦》这本书。下面的代码之后要求大家都会写，现在可以先跳过。"
   ]
  },
  {
   "cell_type": "code",
   "execution_count": 6,
   "id": "ultimate-drunk",
   "metadata": {},
   "outputs": [],
   "source": [
    "# 这一段代码请复制到本地运行，拿到我们需要处理的文本。\n",
    "# 有兴趣的同学可以研究一下它做了啥。\n",
    "# 不想看的同学可以先跳过。\n",
    "# 不过这种代码之后要求会写的。\n",
    "\n",
    "# 总之就是自动从服务器下载了一个 txt 文件。\n",
    "\n",
    "import requests\n",
    "import os\n",
    "\n",
    "dir_path = 'txt_files'\n",
    "file_name = 'hongloumeng.txt'\n",
    "full_path = os.path.join(dir_path, file_name)\n",
    "if not os.path.exists(dir_path):\n",
    "    os.mkdir(dir_path)\n",
    "\n",
    "if not os.path.exists(full_path):\n",
    "    url = \"http://icewould.com/m5-101/hongloumeng\"\n",
    "    print(\"正在下载文件...\")\n",
    "    result = requests.get(url)\n",
    "    with open(full_path, \"wb\") as f:\n",
    "        f.write(result.content)\n",
    "        print(\"下载完成\")\n"
   ]
  },
  {
   "cell_type": "code",
   "execution_count": 7,
   "id": "southeast-combination",
   "metadata": {},
   "outputs": [],
   "source": [
    "# 读取文件\n",
    "lines = None\n",
    "with open('./txt_files/hongloumeng.txt', 'r', encoding = "utf-8") as f:\n",
    "    lines = f.readlines()"
   ]
  },
  {
   "cell_type": "code",
   "execution_count": 8,
   "id": "spare-third",
   "metadata": {},
   "outputs": [
    {
     "name": "stdout",
     "output_type": "stream",
     "text": [
      "['\\ufeff 第一回\\u3000甄士隐梦幻识通灵\\u3000贾雨村风尘怀闺秀\\n', '\\n', '    此开卷第一回也。作者自云：因曾历过一番梦幻之后，故将真事隐去，而借“通灵”之说，撰此《石头记》一书也。故曰“甄士隐”云云。但书中所记何事何人？自又云：“今风尘碌碌，一事无成，忽念及当日所有之女子，一一细考较去，觉其行止见识皆出于我之上。何我堂堂须眉，诚不若彼裙钗哉？实愧则有馀，悔又无益之大无可如何之日也！当此，则自欲将已往所赖天恩祖德，锦衣纨袴之时，饫甘餍肥之日，背父兄教育之恩，负师友规训之德，以至今日一技无成，半生潦倒之罪，编述一集，以告天下人：我之罪固不免，然闺阁中本自历历有人，万不可因我之不肖，自护己短，一并使其泯灭也。虽今日之茅椽蓬牖，瓦灶绳床，其晨夕风露，阶柳庭花，亦未有妨我之襟怀笔墨者。虽我未学，下笔无文，又何妨用假语村言，敷演出一段故事来，亦可使闺阁昭传，复可悦世之目，破人愁闷，不亦宜乎？”故曰“贾雨村云云。\\n']\n",
      "\n",
      "全书一共 6233 个段落\n",
      "全书一共 882432 个字符\n"
     ]
    }
   ],
   "source": [
    "print(lines[:3]) # 看一下前 3 个段落\n",
    "print()\n",
    "print(\"全书一共 \" + str(len(lines)) + \" 个段落\") # 看一下全书一共有多少段落\n",
    "content = \"\".join(lines) # lines 是一个数组，每一个元素是一个段落。现在把它完整拼起来，成为一整个字符串，存放在 content 变量里。\n",
    "print(\"全书一共 \" + str(len(content)) + \" 个字符\")"
   ]
  },
  {
   "cell_type": "markdown",
   "id": "mexican-speed",
   "metadata": {},
   "source": [
    "通过字典，我们来统计一下，每一个字出现的次数。  \n",
    "大家可以把最后的 `print` 从注释里拿出来，打印一下看看。"
   ]
  },
  {
   "cell_type": "code",
   "execution_count": 9,
   "id": "round-rugby",
   "metadata": {},
   "outputs": [],
   "source": [
    "counter = dict()\n",
    "for character in content:\n",
    "    if not character in counter.keys():\n",
    "        counter[character] = 1\n",
    "    else:\n",
    "        counter[character] = counter[character] + 1\n",
    "# print(counter)"
   ]
  },
  {
   "cell_type": "markdown",
   "id": "bearing-vertical",
   "metadata": {},
   "source": [
    "其实，可以直接使用 `Python` 自带的 `Counter` 进行统计，但是为了让大家熟练掌握 `Dictionary` 的用法，还是建议大家先自己手写。"
   ]
  },
  {
   "cell_type": "markdown",
   "id": "linear-logging",
   "metadata": {},
   "source": [
    "然后，我们看看《红楼梦》中，`贾xx` 或者 `贾x` 字符串共出现了多少次。"
   ]
  },
  {
   "cell_type": "code",
   "execution_count": 10,
   "id": "possible-mambo",
   "metadata": {},
   "outputs": [
    {
     "name": "stdout",
     "output_type": "stream",
     "text": [
      "5113\n"
     ]
    }
   ],
   "source": [
    "import re\n",
    "expression = \"贾[\\u4e00-\\u9fa5]{1,2}\"\n",
    "result = re.findall(expression, content)\n",
    "print(len(result))"
   ]
  },
  {
   "cell_type": "markdown",
   "id": "competitive-scottish",
   "metadata": {},
   "source": [
    "好奇它们都是啥么？我们打印出前几个看一下。"
   ]
  },
  {
   "cell_type": "code",
   "execution_count": 11,
   "id": "dietary-gilbert",
   "metadata": {},
   "outputs": [
    {
     "name": "stdout",
     "output_type": "stream",
     "text": [
      "['贾雨村', '贾雨村', '贾名化', '贾雨村', '贾雨村', '贾爷今', '贾夫人', '贾名化', '贾氏生', '贾氏夫', '贾府中', '贾复以', '贾代化', '贾敷', '贾敬袭', '贾珍', '贾蓉', '贾代善', '贾赦', '贾政', '贾赦袭', '贾政', '贾珠', '贾府就', '贾府中', '贾府亦', '贾敏', '贾琏', '贾雨村', '贾政', '贾政已', '贾政最', '贾政', '贾赦贾', '贾母一', '贾母又', '贾母又', '贾母道', '贾母笑', '贾赦之', '贾琏', '贾母身', '贾母笑', '贾母命', '贾赦之', '贾母笑', '贾赦', '贾母处', '贾源', '贾政之', '贾母的', '贾珠之', '贾母正', '贾母笑', '贾母命', '贾母便', '贾母因', '贾母道', '贾母请', '贾母便', '贾母因', '贾母笑', '贾母笑', '贾母急', '贾母忙', '贾母说', '贾母想', '贾母见', '贾母之', '贾母因', '贾母', '贾母时', '贾母', '贾母', '贾珠之', '贾兰', '贾不假', '贾府王', '贾府之', '贾府王', '贾政并', '贾政的', '贾家姨', '贾雨村', '贾母', '贾政', '贾琏又', '贾赦', '贾珍等', '贾政便', '贾母也', '贾母闲', '贾宅居', '贾宅族', '贾政训', '贾珍', '贾母万', '贾母一', '贾珍之', '贾母']\n"
     ]
    }
   ],
   "source": [
    "print(result[:100])"
   ]
  },
  {
   "cell_type": "markdown",
   "id": "suited-binding",
   "metadata": {},
   "source": [
    "注意，这些不都是人名哦，比如 `贾政便`。  \n",
    "要提取出姓贾的人名，可能需要一番功夫了。  \n",
    "<br>\n",
    "\n",
    "此外，我们可以把重复的删去。这里要用到 `set` 这个数据结构，有兴趣的同学可以去搜一下 `python set`。`set` 其实就是数学里的 `集合`，它不允许有重复的元素。"
   ]
  },
  {
   "cell_type": "code",
   "execution_count": 12,
   "id": "anonymous-nigeria",
   "metadata": {},
   "outputs": [
    {
     "name": "stdout",
     "output_type": "stream",
     "text": [
      "{'贾夫人', '贾府就', '贾母因', '贾兰', '贾珍等', '贾政训', '贾母笑', '贾珠之', '贾政并', '贾赦袭', '贾爷今', '贾母处', '贾政的', '贾代善', '贾母正', '贾宅族', '贾政之', '贾赦', '贾赦之', '贾政', '贾母说', '贾府之', '贾敷', '贾母一', '贾母闲', '贾母的', '贾母身', '贾母急', '贾敏', '贾敬袭', '贾政已', '贾宅居', '贾氏夫', '贾名化', '贾氏生', '贾代化', '贾母想', '贾母便', '贾琏又', '贾家姨', '贾珠', '贾政最', '贾母', '贾母万', '贾府亦', '贾珍之', '贾府王', '贾政便', '贾母之', '贾赦贾', '贾母命', '贾母又', '贾母忙', '贾雨村', '贾珍', '贾府中', '贾琏', '贾母请', '贾母时', '贾复以', '贾蓉', '贾母也', '贾源', '贾母见', '贾母道', '贾不假'}\n"
     ]
    }
   ],
   "source": [
    "print(set(result[:100]))"
   ]
  },
  {
   "cell_type": "markdown",
   "id": "classical-basement",
   "metadata": {},
   "source": [
    "一共有多少个不重复的呢？"
   ]
  },
  {
   "cell_type": "code",
   "execution_count": 13,
   "id": "double-poland",
   "metadata": {},
   "outputs": [
    {
     "name": "stdout",
     "output_type": "stream",
     "text": [
      "1471\n"
     ]
    }
   ],
   "source": [
    "print(len(set(result)))"
   ]
  },
  {
   "cell_type": "markdown",
   "id": "green-chance",
   "metadata": {},
   "source": [
    "## 文本处理——练习"
   ]
  },
  {
   "cell_type": "markdown",
   "id": "brutal-width",
   "metadata": {},
   "source": [
    "### 练习1\n",
    "请把我们的《红楼梦》文本中所有不是汉字的东西去掉  \n",
    "\n",
    "\n",
    "匹配所有**非**汉字的正则表达式是：  \n",
    "`[^\\u4e00-\\u9fa5]`  \n",
    "\n",
    "匹配所有汉字的正则表达式是：  \n",
    "`[\\u4e00-\\u9fa5]` \n",
    "\n",
    "请先不要看以下代码，自己尝试一下。提示，使用 `re.sub` 函数以及 `\"\"`（空字符串）来替换，达到删除的效果。"
   ]
  },
  {
   "cell_type": "code",
   "execution_count": 14,
   "id": "dependent-spread",
   "metadata": {},
   "outputs": [
    {
     "name": "stdout",
     "output_type": "stream",
     "text": [
      "第一回甄士隐梦幻识通灵贾雨村风尘怀闺秀此开卷第一回也作者自云因曾历过一番梦幻之后故将真事隐去而借通灵之说撰此石头记一书也故曰甄士隐云云但书中所记何事何人自又云今风尘碌碌一事无成忽念及当日所有之女子一一细考较去觉其行止见识皆出于我之上何我堂堂须眉诚不若彼裙钗哉实愧则有馀悔又无益之大无可如何之日也当此则自欲将已往所赖天恩祖德锦衣纨袴之时饫甘餍肥之日背父兄教育之恩负师友规训之德以至今日一技无成半生潦倒之罪编述一集以告天下人我之罪固不免然闺阁中本自历历有人万不可因我之不肖自护己短一并使其泯灭也虽今日之茅椽蓬牖瓦灶绳床其晨夕风露阶柳庭花亦未有妨我之襟怀笔墨者虽我未学下笔无文又何妨用假语村言敷演出一段故事\n"
     ]
    }
   ],
   "source": [
    "# 请遮住以下代码，自己先写\n",
    "\n",
    "import re\n",
    "def clear_content(content):\n",
    "    expression = '[^\\u4e00-\\u9fa5]'\n",
    "    result = re.sub(expression, \"\", content)\n",
    "    return result\n",
    "\n",
    "result = clear_content(content)\n",
    "print(result[:300]) # 展示处理完毕后的前 300 个字"
   ]
  },
  {
   "cell_type": "markdown",
   "id": "accepted-electricity",
   "metadata": {},
   "source": [
    "### 练习2 \n",
    "请统计《红楼梦》中出现次数最多的汉字（注意，请先把标点符号去除掉）"
   ]
  },
  {
   "cell_type": "markdown",
   "id": "backed-helen",
   "metadata": {},
   "source": [
    "### 练习 3\n",
    "请统计《红楼梦》中出现次数最多的前三个汉字。"
   ]
  },
  {
   "cell_type": "markdown",
   "id": "referenced-initial",
   "metadata": {},
   "source": [
    "### 练习 4\n",
    "请统计《红楼梦》中，黛玉与宝玉两个人名在相隔 20 字内同时出现的次数。"
   ]
  }
 ],
 "metadata": {
  "kernelspec": {
   "display_name": "Python 3",
   "language": "python",
   "name": "python3"
  },
  "language_info": {
   "codemirror_mode": {
    "name": "ipython",
    "version": 3
   },
   "file_extension": ".py",
   "mimetype": "text/x-python",
   "name": "python",
   "nbconvert_exporter": "python",
   "pygments_lexer": "ipython3",
   "version": "3.6.9"
  }
 },
 "nbformat": 4,
 "nbformat_minor": 5
}
