{
 "cells": [
  {
   "cell_type": "markdown",
   "id": "formed-reverse",
   "metadata": {},
   "source": [
    "## 递归示例 1"
   ]
  },
  {
   "cell_type": "code",
   "execution_count": 1,
   "id": "native-insurance",
   "metadata": {},
   "outputs": [],
   "source": [
    "# 计算 1 + 2 + ... + n 的和\n",
    "def calc_sum(n):\n",
    "    if n == 0:\n",
    "        return 0\n",
    "    return n + calc_sum(n - 1)"
   ]
  },
  {
   "cell_type": "code",
   "execution_count": 2,
   "id": "smaller-portfolio",
   "metadata": {},
   "outputs": [
    {
     "name": "stdout",
     "output_type": "stream",
     "text": [
      "55\n"
     ]
    }
   ],
   "source": [
    "print(calc_sum(10))"
   ]
  },
  {
   "cell_type": "markdown",
   "id": "standard-regular",
   "metadata": {},
   "source": [
    "## 递归练习 1"
   ]
  },
  {
   "cell_type": "code",
   "execution_count": null,
   "id": "ordered-basics",
   "metadata": {},
   "outputs": [],
   "source": [
    "# 计算 1 * 2 * ... * n 的积\n",
    "def calc_product(n):\n",
    "    return 0"
   ]
  },
  {
   "cell_type": "code",
   "execution_count": null,
   "id": "abandoned-curtis",
   "metadata": {},
   "outputs": [],
   "source": [
    "print(calc_product(5)) # 需要输出 120"
   ]
  },
  {
   "cell_type": "markdown",
   "id": "scientific-coffee",
   "metadata": {},
   "source": [
    "## 递归练习 2"
   ]
  },
  {
   "cell_type": "markdown",
   "id": "spoken-coaching",
   "metadata": {},
   "source": [
    "请使用递归计算斐波那契数列的第 n 项。\n",
    "如果用递归的话，你会发现和数学公式非常像，即 \n",
    "$$\n",
    "  \\begin{equation}\n",
    "    f(n)=\n",
    "    \\begin{cases}\n",
    "      f(n-1)+f(n-2), & \\text{if}\\ n \\gt 2\\\\\n",
    "      1, & \\text{if}\\ n = 1 \\text{ or } n = 2\n",
    "    \\end{cases}\n",
    "  \\end{equation}\n",
    "$$\n"
   ]
  },
  {
   "cell_type": "code",
   "execution_count": null,
   "id": "latest-family",
   "metadata": {},
   "outputs": [],
   "source": [
    "def fibonacci(n):\n",
    "    return 0"
   ]
  }
 ],
 "metadata": {
  "kernelspec": {
   "display_name": "Python 3",
   "language": "python",
   "name": "python3"
  },
  "language_info": {
   "codemirror_mode": {
    "name": "ipython",
    "version": 3
   },
   "file_extension": ".py",
   "mimetype": "text/x-python",
   "name": "python",
   "nbconvert_exporter": "python",
   "pygments_lexer": "ipython3",
   "version": "3.6.9"
  }
 },
 "nbformat": 4,
 "nbformat_minor": 5
}
