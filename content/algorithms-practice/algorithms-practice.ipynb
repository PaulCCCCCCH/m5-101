{
 "cells": [
  {
   "cell_type": "markdown",
   "id": "specified-browser",
   "metadata": {},
   "source": [
    "## 递归示例 1"
   ]
  },
  {
   "cell_type": "code",
   "execution_count": 18,
   "id": "indian-aruba",
   "metadata": {},
   "outputs": [],
   "source": [
    "# 计算 1 + 2 + ... + n 的和\n",
    "def calc_sum(n):\n",
    "    if n == 0:\n",
    "        return 0\n",
    "    return n + calc_sum(n - 1)"
   ]
  },
  {
   "cell_type": "code",
   "execution_count": 19,
   "id": "judicial-helicopter",
   "metadata": {},
   "outputs": [
    {
     "name": "stdout",
     "output_type": "stream",
     "text": [
      "55\n"
     ]
    }
   ],
   "source": [
    "print(calc_sum(10))"
   ]
  },
  {
   "cell_type": "markdown",
   "id": "important-eligibility",
   "metadata": {},
   "source": [
    "## 递归练习 1"
   ]
  },
  {
   "cell_type": "code",
   "execution_count": 20,
   "id": "incomplete-honor",
   "metadata": {},
   "outputs": [],
   "source": [
    "# 计算 1 * 2 * ... * n 的积\n",
    "def calc_product(n):\n",
    "    return 0"
   ]
  },
  {
   "cell_type": "code",
   "execution_count": 21,
   "id": "separate-cache",
   "metadata": {},
   "outputs": [
    {
     "name": "stdout",
     "output_type": "stream",
     "text": [
      "0\n"
     ]
    }
   ],
   "source": [
    "print(calc_product(5)) # 需要输出 120"
   ]
  },
  {
   "cell_type": "markdown",
   "id": "related-theater",
   "metadata": {},
   "source": [
    "## 递归练习 2"
   ]
  },
  {
   "cell_type": "markdown",
   "id": "alpine-subscriber",
   "metadata": {},
   "source": [
    "请使用递归计算斐波那契数列的第 n 项。\n",
    "如果用递归的话，你会发现和数学公式非常像，即 \n",
    "$$\n",
    "  \\begin{equation}\n",
    "    f(n)=\n",
    "    \\begin{cases}\n",
    "      f(n-1)+f(n-2), & \\text{if}\\ n \\gt 2\\\\\n",
    "      1, & \\text{if}\\ n = 1 \\text{ or } n = 2\n",
    "    \\end{cases}\n",
    "  \\end{equation}\n",
    "$$\n"
   ]
  },
  {
   "cell_type": "code",
   "execution_count": 22,
   "id": "endless-quarter",
   "metadata": {},
   "outputs": [],
   "source": [
    "def fibonacci(n):\n",
    "    return 0"
   ]
  },
  {
   "cell_type": "markdown",
   "id": "wireless-mistress",
   "metadata": {},
   "source": [
    "## 算法实例 1\n",
    "\n",
    "我们比较两种排序算法，`sort_numbers_slow` 和 `sort_numbers_fast`。它们的定义如下。"
   ]
  },
  {
   "cell_type": "code",
   "execution_count": 23,
   "id": "necessary-strength",
   "metadata": {},
   "outputs": [],
   "source": [
    "def sort_numbers_slow(numbers):\n",
    "    result = []     # 这里记录排列好的序列\n",
    "    while numbers:  # 一直循环，直到 numbers 为空\n",
    "        curr_max = -float('inf')    # 记录当前最大的数，因为还没开始，所以是负无穷大\n",
    "        curr_max_idx = 0            # 记录当前最大的数在第几个\n",
    "        for idx in range(len(numbers)):  \n",
    "            if numbers[idx] > curr_max:\n",
    "                curr_max = numbers[idx] \n",
    "                curr_max_idx = idx\n",
    "\n",
    "        numbers.pop(curr_max_idx)   # 把 numbers 里面最大的那个数扔掉\n",
    "        result.append(curr_max)     # 把这个最大的数放到 result 数组里面\n",
    "\n",
    "    return result                   # 返回的 result 就是排列好的数组了\n"
   ]
  },
  {
   "cell_type": "code",
   "execution_count": 24,
   "id": "amber-reggae",
   "metadata": {},
   "outputs": [],
   "source": [
    "# 这是快速排序的算法。如果感兴趣，可以看一下下面的视频：\n",
    "# https://www.bilibili.com/video/BV1at411T75o?from=search&seid=14008345895727111022\n",
    "def sort_numbers_fast(numbers):\n",
    "    \n",
    "    def partition(arr,low,high): \n",
    "        i = low - 1\n",
    "        pivot = arr[high]     \n",
    "        for j in range(low , high): \n",
    "            if arr[j] <= pivot: \n",
    "                i = i+1 \n",
    "                arr[i],arr[j] = arr[j],arr[i] \n",
    "        arr[i + 1], arr[high] = arr[high], arr[i + 1] \n",
    "        return (i + 1) \n",
    "\n",
    "    def quick_sort(arr, low, high): \n",
    "        if low < high: \n",
    "\n",
    "            pi = partition(arr, low, high) \n",
    "\n",
    "            quick_sort(arr, low, pi - 1) \n",
    "            quick_sort(arr, pi + 1, high) \n",
    "    \n",
    "    quick_sort(numbers, 0, len(numbers) - 1) \n"
   ]
  },
  {
   "cell_type": "markdown",
   "id": "abroad-stream",
   "metadata": {},
   "source": [
    "我们运行一下两种算法："
   ]
  },
  {
   "cell_type": "code",
   "execution_count": 25,
   "id": "processed-weekly",
   "metadata": {},
   "outputs": [
    {
     "name": "stdout",
     "output_type": "stream",
     "text": [
      "开始运行 sort_numbers_slow\n",
      "sort_numbers_slow 运行完成，耗时 6.283639192581177 秒\n",
      "开始运行 sort_numbers_fast\n",
      "sort_numbers_fast 运行完成，耗时 0.031037330627441406 秒\n"
     ]
    }
   ],
   "source": [
    "import random\n",
    "import time\n",
    "\n",
    "# 创建一个随机打乱了的数组\n",
    "numbers = [random.randint(0, 20000) for _ in range(20000)]\n",
    "\n",
    "# 开始计时\n",
    "start = time.time()\n",
    "print(\"开始运行 sort_numbers_slow\")\n",
    "# 开始用比较慢的算法排序\n",
    "sort_numbers_slow(list(numbers))\n",
    "# 停止计时\n",
    "end = time.time()\n",
    "print(\"sort_numbers_slow 运行完成，耗时 {} 秒\".format(end-start))\n",
    "\n",
    "# 开始计时\n",
    "start = time.time()\n",
    "print(\"开始运行 sort_numbers_fast\")\n",
    "# 开始用更快速的算法排序\n",
    "sort_numbers_fast(list(numbers))\n",
    "# 停止计时\n",
    "end = time.time()\n",
    "print(\"sort_numbers_fast 运行完成，耗时 {} 秒\".format(end-start))"
   ]
  },
  {
   "cell_type": "markdown",
   "id": "motivated-track",
   "metadata": {},
   "source": [
    "可以看到，两种算法的效率差别非常明显地别。  \n",
    "虽然现在我们不要求大家掌握任何算法，但是希望各位在用程序解决问题的时候，要有算法效率的意识。"
   ]
  }
 ],
 "metadata": {
  "kernelspec": {
   "display_name": "Python 3",
   "language": "python",
   "name": "python3"
  },
  "language_info": {
   "codemirror_mode": {
    "name": "ipython",
    "version": 3
   },
   "file_extension": ".py",
   "mimetype": "text/x-python",
   "name": "python",
   "nbconvert_exporter": "python",
   "pygments_lexer": "ipython3",
   "version": "3.6.9"
  }
 },
 "nbformat": 4,
 "nbformat_minor": 5
}
