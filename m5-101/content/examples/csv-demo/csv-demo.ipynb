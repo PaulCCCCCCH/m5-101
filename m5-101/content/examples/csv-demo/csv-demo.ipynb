{
 "cells": [
  {
   "cell_type": "code",
   "execution_count": 1,
   "id": "quick-foundation",
   "metadata": {},
   "outputs": [],
   "source": [
    "import csv"
   ]
  },
  {
   "cell_type": "code",
   "execution_count": 2,
   "id": "surprising-going",
   "metadata": {},
   "outputs": [],
   "source": [
    "from faker import Faker\n",
    "import random\n",
    "import numpy as np\n",
    "import datetime\n",
    "import time"
   ]
  },
  {
   "cell_type": "code",
   "execution_count": 3,
   "id": "seven-draft",
   "metadata": {},
   "outputs": [],
   "source": [
    "csv_file = csv.reader(open('../txt_files/eshop-data.csv'))\n",
    "lines = [line for line in csv_file]"
   ]
  },
  {
   "cell_type": "code",
   "execution_count": 4,
   "id": "characteristic-surrey",
   "metadata": {},
   "outputs": [],
   "source": [
    "fake = Faker(locale=\"zh_CN\")"
   ]
  },
  {
   "cell_type": "code",
   "execution_count": 5,
   "id": "thick-somalia",
   "metadata": {},
   "outputs": [],
   "source": [
    "NUM_TO_FAKE = 1000\n",
    "BASE_ORDER_ID = 81417556230000"
   ]
  },
  {
   "cell_type": "code",
   "execution_count": 6,
   "id": "thrown-pressing",
   "metadata": {},
   "outputs": [],
   "source": [
    "订单编号 = np.random.permutation(range(BASE_ORDER_ID, BASE_ORDER_ID + 10 * NUM_TO_FAKE))[:NUM_TO_FAKE]"
   ]
  },
  {
   "cell_type": "code",
   "execution_count": 7,
   "id": "appointed-baltimore",
   "metadata": {},
   "outputs": [],
   "source": [
    "all_states = [\"已完成\", \"已关闭\"]\n",
    "订单状态 = [all_states[random.randint(0, 1)] for _ in range(NUM_TO_FAKE)]"
   ]
  },
  {
   "cell_type": "code",
   "execution_count": 8,
   "id": "seventh-calibration",
   "metadata": {},
   "outputs": [],
   "source": [
    "def get_date_pair():\n",
    "    date1 = fake.date_time_between(\n",
    "        start_date=datetime.datetime.strptime('2021-01-20 23:59:59', \"%Y-%m-%d %H:%M:%S\"), \n",
    "        end_date=datetime.datetime.strptime('2021-02-01 23:59:59', \"%Y-%m-%d %H:%M:%S\")\n",
    "    )\n",
    "    date2 = fake.date_time_between(\n",
    "        start_date=datetime.datetime.strptime('2021-01-20 23:59:59', \"%Y-%m-%d %H:%M:%S\"), \n",
    "        end_date=datetime.datetime.strptime('2021-02-01 23:59:59', \"%Y-%m-%d %H:%M:%S\")\n",
    "    )\n",
    "    if date1 > date2:\n",
    "        return date2, date1\n",
    "    return date1, date2\n",
    "    \n",
    "下单发货时间 = [get_date_pair() for _ in range(NUM_TO_FAKE)]\n",
    "下单时间 = [datetime.datetime.strftime(p[0], \"%Y-%m-%d %H:%M:%S\") for p in 下单发货时间]\n",
    "发货时间 = [datetime.datetime.strftime(p[1], \"%Y-%m-%d %H:%M:%S\") for p in 下单发货时间]"
   ]
  },
  {
   "cell_type": "code",
   "execution_count": 9,
   "id": "prostate-paragraph",
   "metadata": {},
   "outputs": [],
   "source": [
    "支付方式 = [\"借记卡\"] * NUM_TO_FAKE"
   ]
  },
  {
   "cell_type": "code",
   "execution_count": 10,
   "id": "local-danger",
   "metadata": {},
   "outputs": [],
   "source": [
    "all_products = [(\"哇鸥乐意优享礼盒\", \"2101\"), (\"哇鸥心意优享礼盒\", \"2102\"), (\"哇鸥顺意优享礼盒\", \"2110\")]\n",
    "商品型号编码 = [all_products[random.randint(0, 2)] for _ in range(NUM_TO_FAKE)]\n",
    "商品型号 = [p[0] for p in 商品型号编码]\n",
    "商品编码 = [p[1] for p in 商品型号编码]"
   ]
  },
  {
   "cell_type": "code",
   "execution_count": 11,
   "id": "compatible-pressing",
   "metadata": {},
   "outputs": [],
   "source": [
    "商品件数 = [int(np.random.exponential(2)) + 1 for _ in range(NUM_TO_FAKE)]"
   ]
  },
  {
   "cell_type": "code",
   "execution_count": 12,
   "id": "cordless-level",
   "metadata": {},
   "outputs": [],
   "source": [
    "prices = {\n",
    "    \"2101\": 445,\n",
    "    \"2102\": 667,\n",
    "    \"2110\": 1118\n",
    "}\n",
    "商品金额 = [prices[i] * count for i, count in zip(商品编码, 商品件数)]"
   ]
  },
  {
   "cell_type": "code",
   "execution_count": 13,
   "id": "satisfied-choice",
   "metadata": {},
   "outputs": [],
   "source": [
    "all_discounts = [0, 0, 0, 0, 0, 0, 0, 20, 20, 30, 40]\n",
    "优惠金额 = [all_discounts[random.randint(0, len(all_discounts) - 1)] for _ in range(NUM_TO_FAKE)]"
   ]
  },
  {
   "cell_type": "code",
   "execution_count": 14,
   "id": "excess-organic",
   "metadata": {},
   "outputs": [],
   "source": [
    "实付金额 = [p - d for p, d in zip(商品金额, 优惠金额)]"
   ]
  },
  {
   "cell_type": "code",
   "execution_count": 15,
   "id": "higher-animal",
   "metadata": {},
   "outputs": [],
   "source": [
    "收货人姓名 = [fake.name() for _ in range(NUM_TO_FAKE)]"
   ]
  },
  {
   "cell_type": "code",
   "execution_count": 16,
   "id": "limiting-roberts",
   "metadata": {},
   "outputs": [],
   "source": [
    "收货人手机 = [fake.phone_number() for _ in range(NUM_TO_FAKE)]"
   ]
  },
  {
   "cell_type": "code",
   "execution_count": 17,
   "id": "modern-darkness",
   "metadata": {},
   "outputs": [],
   "source": [
    "收货人地址 = [fake.address() for _ in range(NUM_TO_FAKE)]"
   ]
  },
  {
   "cell_type": "code",
   "execution_count": 18,
   "id": "separate-complement",
   "metadata": {},
   "outputs": [],
   "source": [
    "all_data = [订单编号, 订单状态, 下单时间, 发货时间, 支付方式, 商品型号, 商品编码, 商品件数, 商品金额, 优惠金额, 实付金额, 收货人姓名, 收货人手机, 收货人地址]"
   ]
  },
  {
   "cell_type": "code",
   "execution_count": 19,
   "id": "featured-doctrine",
   "metadata": {},
   "outputs": [],
   "source": [
    "csv_content = zip(*all_data)"
   ]
  },
  {
   "cell_type": "code",
   "execution_count": 20,
   "id": "recent-syria",
   "metadata": {},
   "outputs": [],
   "source": [
    "with open(\"sales.csv\", \"w\") as f:\n",
    "    writer = csv.writer(f)\n",
    "    writer.writerow(['订单编号', '订单状态', '下单时间', '发货时间', '支付方式', '商品型号', '商品编码', '商品件数', '商品金额', '优惠金额', '实付金额', '收货人姓名', '收货人手机', '收货人地址'])\n",
    "    for t in csv_content:\n",
    "        writer.writerow(list(t))\n"
   ]
  }
 ],
 "metadata": {
  "kernelspec": {
   "display_name": "Python 3",
   "language": "python",
   "name": "python3"
  },
  "language_info": {
   "codemirror_mode": {
    "name": "ipython",
    "version": 3
   },
   "file_extension": ".py",
   "mimetype": "text/x-python",
   "name": "python",
   "nbconvert_exporter": "python",
   "pygments_lexer": "ipython3",
   "version": "3.6.9"
  }
 },
 "nbformat": 4,
 "nbformat_minor": 5
}
